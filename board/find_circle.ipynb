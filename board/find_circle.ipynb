{
 "cells": [
  {
   "cell_type": "code",
   "execution_count": null,
   "id": "3684fe3e-e452-4908-9c36-7b43a670ebd5",
   "metadata": {},
   "outputs": [],
   "source": [
    "%pip install ipympl &> pipout && echo Dependencies OK || cat pipout"
   ]
  },
  {
   "cell_type": "code",
   "execution_count": null,
   "id": "3f5fa636-ed81-424c-a6ac-a79140011a14",
   "metadata": {},
   "outputs": [],
   "source": [
    "%rm pipout"
   ]
  },
  {
   "cell_type": "code",
   "execution_count": null,
   "id": "0660302c-f141-4b3a-9028-ba8795a9cbe4",
   "metadata": {},
   "outputs": [],
   "source": [
    "import matplotlib.pyplot as plt\n",
    "import math"
   ]
  },
  {
   "cell_type": "code",
   "execution_count": null,
   "id": "6d3a751a-7a19-463f-8bb3-23afeee18d9e",
   "metadata": {},
   "outputs": [],
   "source": [
    "def unzip(*points):\n",
    "    x = []\n",
    "    y = []\n",
    "    for p in points:\n",
    "        x.append(p[0])\n",
    "        y.append(p[1])\n",
    "    return x, y"
   ]
  },
  {
   "cell_type": "code",
   "execution_count": null,
   "id": "8f80e282-6bf2-46a3-b146-a94747e9a63d",
   "metadata": {},
   "outputs": [],
   "source": [
    "def sum_points(*p):\n",
    "    xs, ys = unzip(*p)\n",
    "    return sum(xs), sum(ys)"
   ]
  },
  {
   "cell_type": "code",
   "execution_count": null,
   "id": "7e56acf1-1ea0-415d-a3e7-e140537093ad",
   "metadata": {},
   "outputs": [],
   "source": [
    "def div_point(point, scalar):\n",
    "    return point[0] / scalar, point[1] / scalar"
   ]
  },
  {
   "cell_type": "code",
   "execution_count": null,
   "id": "6f44e7cc-acf2-4037-bb4f-f9c10d7da089",
   "metadata": {},
   "outputs": [],
   "source": [
    "def neg_point(p):\n",
    "    return -p[0], -p[1]"
   ]
  },
  {
   "cell_type": "code",
   "execution_count": null,
   "id": "24371194-09c2-47ff-b8fa-307ee25e735a",
   "metadata": {},
   "outputs": [],
   "source": [
    "def distance(a, b):\n",
    "    x, y = sum_points(a, neg_point(b))\n",
    "    return math.sqrt(x * x + y * y)"
   ]
  },
  {
   "cell_type": "code",
   "execution_count": null,
   "id": "fd72859e-caf7-4a65-ad6e-29aa00b714ef",
   "metadata": {},
   "outputs": [],
   "source": [
    "def midpoint(a, b):\n",
    "    return [(a[0] + b[0]) / 2, (a[1] + b[1]) / 2]"
   ]
  },
  {
   "cell_type": "code",
   "execution_count": null,
   "id": "9125e675-d9fe-4467-8d98-157932e0b68b",
   "metadata": {},
   "outputs": [],
   "source": [
    "# a = [69.984, 70.046]\n",
    "# b = [109.929, 73.524]\n",
    "# c = [127.868, 82.875]\n",
    "# a = [31.385700225830078, 17.735633850097656]\n",
    "# b = [50.28571319580078, 17.849987030029297]\n",
    "# c = [119.96552276611328, 17.884639739990234]\n",
    "# a = [-267.8627, -44.480732]\n",
    "# b = [-247.66412, -43.585335]\n",
    "# c = [-209.97803, -57.310188]\n",
    "a = [-209.97803, 57.310188]\n",
    "b = [-227.91745, 47.959282]\n",
    "c = [-247.66412, 43.585335]\n",
    "d = [-267.86267, 44.480732]\n",
    "a = [137.183, 115.982]\n",
    "b = [157.395, 115.099]\n",
    "c = [177.147, 119.478]\n",
    "d = [195.093, 128.82]"
   ]
  },
  {
   "cell_type": "code",
   "execution_count": null,
   "id": "629a1f1b-9f48-4f99-9b1d-e39c44ce9ec5",
   "metadata": {},
   "outputs": [],
   "source": [
    "x, y = unzip(a, b, c, d)\n",
    "plt.scatter(x, y, c = 'b')\n",
    "plt.show()"
   ]
  },
  {
   "cell_type": "code",
   "execution_count": null,
   "id": "dfa86b15-b8d8-43a3-99ce-171e43c195d8",
   "metadata": {},
   "outputs": [],
   "source": [
    "mab = midpoint(a, b)\n",
    "mbc = midpoint(b, c)\n",
    "mcd = midpoint(c, d)"
   ]
  },
  {
   "cell_type": "code",
   "execution_count": null,
   "id": "c719a87f-e665-455b-85a8-03358bada7a6",
   "metadata": {},
   "outputs": [],
   "source": [
    "x, y = unzip(a, b, c, d, mab, mbc, mcd)\n",
    "plt.scatter(x, y, c = ['b', 'b', 'b', 'b', 'r', 'r', 'r'])\n",
    "plt.show()"
   ]
  },
  {
   "cell_type": "code",
   "execution_count": null,
   "id": "cb728ce2-ddd2-4137-a4e4-5ca065717cbe",
   "metadata": {},
   "outputs": [],
   "source": [
    "def slope(a, b, pivot):\n",
    "    x = b[0] - a[0]\n",
    "    y = b[1] - a[1]\n",
    "    ratio = -x / y\n",
    "    offset = pivot[1] - ratio * pivot[0]\n",
    "    return ratio, offset"
   ]
  },
  {
   "cell_type": "code",
   "execution_count": null,
   "id": "5a790262-72b5-434e-a659-f78cb3a3d436",
   "metadata": {},
   "outputs": [],
   "source": [
    "def apply_slope(slope, x):\n",
    "    return slope[0] * x + slope[1]"
   ]
  },
  {
   "cell_type": "code",
   "execution_count": null,
   "id": "d24dcef3-ac9a-4027-8913-34d8fd9afd3e",
   "metadata": {},
   "outputs": [],
   "source": [
    "def make_line(point, slope, length):\n",
    "    def apply_slope(l):\n",
    "        return [l / slope, l]\n",
    "    \n",
    "    start = sum_points(point, apply_slope(length))\n",
    "    end = sum_points(point, apply_slope(-length))\n",
    "    return [start, end]    "
   ]
  },
  {
   "cell_type": "code",
   "execution_count": null,
   "id": "2394e5e5-7a33-406d-bf02-8e83d01e01fc",
   "metadata": {},
   "outputs": [],
   "source": [
    "sab = slope(a, b, mab)\n",
    "sbc = slope(b, c, mbc)\n",
    "scd = slope(c, d, mcd)"
   ]
  },
  {
   "cell_type": "code",
   "execution_count": null,
   "id": "19669190-feba-4223-930f-7e634b067176",
   "metadata": {},
   "outputs": [],
   "source": [
    "x, y = unzip(a, b, c, d, mab, mbc, mcd)\n",
    "plt.scatter(x, y, c = ['b', 'b', 'b', 'b', 'r', 'r', 'r'])\n",
    "\n",
    "x, y = unzip(*make_line(mab, sab[0], 10))\n",
    "plt.plot(x, y, c = 'y')\n",
    "\n",
    "x, y = unzip(*make_line(mbc, sbc[0], 10))\n",
    "plt.plot(x, y, c = 'y')\n",
    "\n",
    "x, y = unzip(*make_line(mcd, scd[0], 10))\n",
    "plt.plot(x, y, c = 'y')\n",
    "\n",
    "plt.axis('equal')\n",
    "plt.show()"
   ]
  },
  {
   "cell_type": "code",
   "execution_count": null,
   "id": "17db6e19-4ca8-47a8-b5d8-371a4a628fad",
   "metadata": {},
   "outputs": [],
   "source": [
    "def find_intersection(a, b):\n",
    "    slope_a, offset_a = a\n",
    "    slope_b, offset_b = b\n",
    "\n",
    "    x = (offset_b - offset_a) / (slope_a - slope_b)\n",
    "    y = apply_slope(a, x)\n",
    "\n",
    "    return x, y"
   ]
  },
  {
   "cell_type": "code",
   "execution_count": null,
   "id": "baabd55b-dc09-42f0-aa15-d736d430607c",
   "metadata": {},
   "outputs": [],
   "source": [
    "center_1 = find_intersection(sab, sbc)\n",
    "center_2 = find_intersection(sbc, scd)\n",
    "center_3 = find_intersection(sab, scd)"
   ]
  },
  {
   "cell_type": "code",
   "execution_count": null,
   "id": "faecaebb-8b39-462b-93b5-e33ee642c668",
   "metadata": {},
   "outputs": [],
   "source": [
    "x, y = unzip(a, b, c, d, mab, mbc, mcd, center_1, center_2, center_3)\n",
    "plt.scatter(x, y, c = ['b', 'b', 'b', 'b', 'r', 'r', 'r', 'y', 'y', 'y'])\n",
    "\n",
    "x, y = unzip(*make_line(mab, sab[0], 10))\n",
    "plt.plot(x, y, c = 'y')\n",
    "\n",
    "x, y = unzip(*make_line(mbc, sbc[0], 10))\n",
    "plt.plot(x, y, c = 'y')\n",
    "\n",
    "x, y = unzip(*make_line(mcd, scd[0], 10))\n",
    "plt.plot(x, y, c = 'y')\n",
    "\n",
    "plt.axis('equal')\n",
    "plt.show()"
   ]
  },
  {
   "cell_type": "code",
   "execution_count": null,
   "id": "3d7dd80a-8222-4e72-a588-ec32b274b793",
   "metadata": {},
   "outputs": [],
   "source": [
    "center = div_point(sum_points(center_1, center_2, center_3), 3)"
   ]
  },
  {
   "cell_type": "code",
   "execution_count": null,
   "id": "21281db8-8671-4ad2-9560-33f99d64960a",
   "metadata": {},
   "outputs": [],
   "source": [
    "x, y = to_plot(center_1, center_2, center_3, center)\n",
    "plt.scatter(x, y, c = ['y', 'y', 'y', 'r'])\n",
    "plt.show()"
   ]
  },
  {
   "cell_type": "code",
   "execution_count": null,
   "id": "c2ff2c29-b66f-4ec3-ae00-fd61cd79653b",
   "metadata": {},
   "outputs": [],
   "source": [
    "print(distance(a, center_1))\n",
    "print(distance(b, center_1))\n",
    "print(distance(c, center_1))\n",
    "print(distance(d, center_1))\n",
    "print()\n",
    "print(distance(a, center_2))\n",
    "print(distance(b, center_2))\n",
    "print(distance(c, center_2))\n",
    "print(distance(d, center_2))\n",
    "print()\n",
    "print(distance(a, center_3))\n",
    "print(distance(b, center_3))\n",
    "print(distance(c, center_3))\n",
    "print(distance(d, center_3))\n",
    "print()\n",
    "print(distance(a, center))\n",
    "print(distance(b, center))\n",
    "print(distance(c, center))\n",
    "print(distance(d, center))"
   ]
  },
  {
   "cell_type": "code",
   "execution_count": null,
   "id": "cfca571d-f946-44c0-85e7-b1215b508889",
   "metadata": {},
   "outputs": [],
   "source": [
    "center"
   ]
  }
 ],
 "metadata": {
  "kernelspec": {
   "display_name": "Python 3 (ipykernel)",
   "language": "python",
   "name": "python3"
  },
  "language_info": {
   "codemirror_mode": {
    "name": "ipython",
    "version": 3
   },
   "file_extension": ".py",
   "mimetype": "text/x-python",
   "name": "python",
   "nbconvert_exporter": "python",
   "pygments_lexer": "ipython3",
   "version": "3.10.8"
  }
 },
 "nbformat": 4,
 "nbformat_minor": 5
}
